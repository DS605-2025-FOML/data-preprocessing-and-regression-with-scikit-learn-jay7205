{
 "cells": [
  {
   "cell_type": "code",
   "execution_count": 1,
   "id": "68001c86",
   "metadata": {
    "ExecuteTime": {
     "end_time": "2025-09-01T13:59:32.447986Z",
     "start_time": "2025-09-01T13:59:30.159505Z"
    }
   },
   "outputs": [],
   "source": [
    "import numpy as np \n",
    "import pandas as pd \n",
    "import seaborn as sns\n",
    "import matplotlib.pyplot as plt "
   ]
  },
  {
   "cell_type": "code",
   "execution_count": 2,
   "id": "7cfd44a3",
   "metadata": {
    "ExecuteTime": {
     "end_time": "2025-09-01T13:59:36.346952Z",
     "start_time": "2025-09-01T13:59:32.449707Z"
    }
   },
   "outputs": [
    {
     "data": {
      "text/html": [
       "<div>\n",
       "<style scoped>\n",
       "    .dataframe tbody tr th:only-of-type {\n",
       "        vertical-align: middle;\n",
       "    }\n",
       "\n",
       "    .dataframe tbody tr th {\n",
       "        vertical-align: top;\n",
       "    }\n",
       "\n",
       "    .dataframe thead th {\n",
       "        text-align: right;\n",
       "    }\n",
       "</style>\n",
       "<table border=\"1\" class=\"dataframe\">\n",
       "  <thead>\n",
       "    <tr style=\"text-align: right;\">\n",
       "      <th></th>\n",
       "      <th>id</th>\n",
       "      <th>date</th>\n",
       "      <th>price</th>\n",
       "      <th>bedrooms</th>\n",
       "      <th>bathrooms</th>\n",
       "      <th>sqft_living</th>\n",
       "      <th>sqft_lot</th>\n",
       "      <th>floors</th>\n",
       "      <th>waterfront</th>\n",
       "      <th>view</th>\n",
       "      <th>...</th>\n",
       "      <th>grade</th>\n",
       "      <th>sqft_above</th>\n",
       "      <th>sqft_basement</th>\n",
       "      <th>yr_built</th>\n",
       "      <th>yr_renovated</th>\n",
       "      <th>zipcode</th>\n",
       "      <th>lat</th>\n",
       "      <th>long</th>\n",
       "      <th>sqft_living15</th>\n",
       "      <th>sqft_lot15</th>\n",
       "    </tr>\n",
       "  </thead>\n",
       "  <tbody>\n",
       "    <tr>\n",
       "      <th>0</th>\n",
       "      <td>7129300520</td>\n",
       "      <td>20141013T000000</td>\n",
       "      <td>221900</td>\n",
       "      <td>3</td>\n",
       "      <td>1.00</td>\n",
       "      <td>1180</td>\n",
       "      <td>5650</td>\n",
       "      <td>1.0</td>\n",
       "      <td>0</td>\n",
       "      <td>0</td>\n",
       "      <td>...</td>\n",
       "      <td>7</td>\n",
       "      <td>1180</td>\n",
       "      <td>0</td>\n",
       "      <td>1955</td>\n",
       "      <td>0</td>\n",
       "      <td>98178</td>\n",
       "      <td>47.5112</td>\n",
       "      <td>-122.257</td>\n",
       "      <td>1340</td>\n",
       "      <td>5650</td>\n",
       "    </tr>\n",
       "    <tr>\n",
       "      <th>1</th>\n",
       "      <td>6414100192</td>\n",
       "      <td>20141209T000000</td>\n",
       "      <td>538000</td>\n",
       "      <td>3</td>\n",
       "      <td>2.25</td>\n",
       "      <td>2570</td>\n",
       "      <td>7242</td>\n",
       "      <td>2.0</td>\n",
       "      <td>0</td>\n",
       "      <td>0</td>\n",
       "      <td>...</td>\n",
       "      <td>7</td>\n",
       "      <td>2170</td>\n",
       "      <td>400</td>\n",
       "      <td>1951</td>\n",
       "      <td>1991</td>\n",
       "      <td>98125</td>\n",
       "      <td>47.7210</td>\n",
       "      <td>-122.319</td>\n",
       "      <td>1690</td>\n",
       "      <td>7639</td>\n",
       "    </tr>\n",
       "    <tr>\n",
       "      <th>2</th>\n",
       "      <td>5631500400</td>\n",
       "      <td>20150225T000000</td>\n",
       "      <td>180000</td>\n",
       "      <td>2</td>\n",
       "      <td>1.00</td>\n",
       "      <td>770</td>\n",
       "      <td>10000</td>\n",
       "      <td>1.0</td>\n",
       "      <td>0</td>\n",
       "      <td>0</td>\n",
       "      <td>...</td>\n",
       "      <td>6</td>\n",
       "      <td>770</td>\n",
       "      <td>0</td>\n",
       "      <td>1933</td>\n",
       "      <td>0</td>\n",
       "      <td>98028</td>\n",
       "      <td>47.7379</td>\n",
       "      <td>-122.233</td>\n",
       "      <td>2720</td>\n",
       "      <td>8062</td>\n",
       "    </tr>\n",
       "    <tr>\n",
       "      <th>3</th>\n",
       "      <td>2487200875</td>\n",
       "      <td>20141209T000000</td>\n",
       "      <td>604000</td>\n",
       "      <td>4</td>\n",
       "      <td>3.00</td>\n",
       "      <td>1960</td>\n",
       "      <td>5000</td>\n",
       "      <td>1.0</td>\n",
       "      <td>0</td>\n",
       "      <td>0</td>\n",
       "      <td>...</td>\n",
       "      <td>7</td>\n",
       "      <td>1050</td>\n",
       "      <td>910</td>\n",
       "      <td>1965</td>\n",
       "      <td>0</td>\n",
       "      <td>98136</td>\n",
       "      <td>47.5208</td>\n",
       "      <td>-122.393</td>\n",
       "      <td>1360</td>\n",
       "      <td>5000</td>\n",
       "    </tr>\n",
       "    <tr>\n",
       "      <th>4</th>\n",
       "      <td>1954400510</td>\n",
       "      <td>20150218T000000</td>\n",
       "      <td>510000</td>\n",
       "      <td>3</td>\n",
       "      <td>2.00</td>\n",
       "      <td>1680</td>\n",
       "      <td>8080</td>\n",
       "      <td>1.0</td>\n",
       "      <td>0</td>\n",
       "      <td>0</td>\n",
       "      <td>...</td>\n",
       "      <td>8</td>\n",
       "      <td>1680</td>\n",
       "      <td>0</td>\n",
       "      <td>1987</td>\n",
       "      <td>0</td>\n",
       "      <td>98074</td>\n",
       "      <td>47.6168</td>\n",
       "      <td>-122.045</td>\n",
       "      <td>1800</td>\n",
       "      <td>7503</td>\n",
       "    </tr>\n",
       "  </tbody>\n",
       "</table>\n",
       "<p>5 rows × 21 columns</p>\n",
       "</div>"
      ],
      "text/plain": [
       "           id             date   price  bedrooms  bathrooms  sqft_living  \\\n",
       "0  7129300520  20141013T000000  221900         3       1.00         1180   \n",
       "1  6414100192  20141209T000000  538000         3       2.25         2570   \n",
       "2  5631500400  20150225T000000  180000         2       1.00          770   \n",
       "3  2487200875  20141209T000000  604000         4       3.00         1960   \n",
       "4  1954400510  20150218T000000  510000         3       2.00         1680   \n",
       "\n",
       "   sqft_lot  floors  waterfront  view  ...  grade  sqft_above  sqft_basement  \\\n",
       "0      5650     1.0           0     0  ...      7        1180              0   \n",
       "1      7242     2.0           0     0  ...      7        2170            400   \n",
       "2     10000     1.0           0     0  ...      6         770              0   \n",
       "3      5000     1.0           0     0  ...      7        1050            910   \n",
       "4      8080     1.0           0     0  ...      8        1680              0   \n",
       "\n",
       "   yr_built  yr_renovated  zipcode      lat     long  sqft_living15  \\\n",
       "0      1955             0    98178  47.5112 -122.257           1340   \n",
       "1      1951          1991    98125  47.7210 -122.319           1690   \n",
       "2      1933             0    98028  47.7379 -122.233           2720   \n",
       "3      1965             0    98136  47.5208 -122.393           1360   \n",
       "4      1987             0    98074  47.6168 -122.045           1800   \n",
       "\n",
       "   sqft_lot15  \n",
       "0        5650  \n",
       "1        7639  \n",
       "2        8062  \n",
       "3        5000  \n",
       "4        7503  \n",
       "\n",
       "[5 rows x 21 columns]"
      ]
     },
     "execution_count": 2,
     "metadata": {},
     "output_type": "execute_result"
    }
   ],
   "source": [
    "df= pd.read_excel(\"KC_house price .xlsx\")\n",
    "df.head()"
   ]
  },
  {
   "cell_type": "code",
   "execution_count": 3,
   "id": "097f2141",
   "metadata": {
    "ExecuteTime": {
     "end_time": "2025-09-01T13:59:36.364360Z",
     "start_time": "2025-09-01T13:59:36.350345Z"
    }
   },
   "outputs": [
    {
     "name": "stdout",
     "output_type": "stream",
     "text": [
      "<class 'pandas.core.frame.DataFrame'>\n",
      "RangeIndex: 21613 entries, 0 to 21612\n",
      "Data columns (total 21 columns):\n",
      " #   Column         Non-Null Count  Dtype  \n",
      "---  ------         --------------  -----  \n",
      " 0   id             21613 non-null  int64  \n",
      " 1   date           21613 non-null  object \n",
      " 2   price          21613 non-null  int64  \n",
      " 3   bedrooms       21613 non-null  int64  \n",
      " 4   bathrooms      21613 non-null  float64\n",
      " 5   sqft_living    21613 non-null  int64  \n",
      " 6   sqft_lot       21613 non-null  int64  \n",
      " 7   floors         21613 non-null  float64\n",
      " 8   waterfront     21613 non-null  int64  \n",
      " 9   view           21613 non-null  int64  \n",
      " 10  condition      21613 non-null  int64  \n",
      " 11  grade          21613 non-null  int64  \n",
      " 12  sqft_above     21613 non-null  int64  \n",
      " 13  sqft_basement  21613 non-null  int64  \n",
      " 14  yr_built       21613 non-null  int64  \n",
      " 15  yr_renovated   21613 non-null  int64  \n",
      " 16  zipcode        21613 non-null  int64  \n",
      " 17  lat            21613 non-null  float64\n",
      " 18  long           21613 non-null  float64\n",
      " 19  sqft_living15  21613 non-null  int64  \n",
      " 20  sqft_lot15     21613 non-null  int64  \n",
      "dtypes: float64(4), int64(16), object(1)\n",
      "memory usage: 3.5+ MB\n"
     ]
    }
   ],
   "source": [
    "df.info()"
   ]
  },
  {
   "cell_type": "code",
   "execution_count": 4,
   "id": "c7b782f1",
   "metadata": {
    "ExecuteTime": {
     "end_time": "2025-09-01T13:59:36.838055Z",
     "start_time": "2025-09-01T13:59:36.366800Z"
    }
   },
   "outputs": [
    {
     "data": {
      "image/png": "[encoded data removed]",
      "text/plain": [
       "<Figure size 1500x500 with 3 Axes>"
      ]
     },
     "metadata": {},
     "output_type": "display_data"
    }
   ],
   "source": [
    "import pandas as pd\n",
    "import matplotlib.pyplot as plt\n",
    "import seaborn as sns\n",
    "\n",
    "plt.figure(figsize=(15,5))\n",
    "\n",
    "plt.subplot(1,3,1)\n",
    "sns.boxplot(y=df['price'])\n",
    "plt.title(\"Boxplot - Price\")\n",
    "\n",
    "plt.subplot(1,3,2)\n",
    "sns.boxplot(y=df['sqft_living'])\n",
    "plt.title(\"Boxplot - Sqft Living\")\n",
    "\n",
    "plt.subplot(1,3,3)\n",
    "sns.boxplot(y=df['bedrooms'])\n",
    "plt.title(\"Boxplot - Bedrooms\")\n",
    "\n",
    "plt.tight_layout()\n",
    "plt.show()\n"
   ]
  },
  {
   "cell_type": "code",
   "execution_count": 5,
   "id": "94af15bb",
   "metadata": {
    "ExecuteTime": {
     "end_time": "2025-09-01T13:59:36.846107Z",
     "start_time": "2025-09-01T13:59:36.842478Z"
    }
   },
   "outputs": [],
   "source": [
    "def remove_outliers(df, column):\n",
    "    Q1 = df[column].quantile(0.25)\n",
    "    Q3 = df[column].quantile(0.75)\n",
    "    IQR = Q3 - Q1\n",
    "    lower_bound = Q1 - 1.5 * IQR\n",
    "    upper_bound = Q3 + 1.5 * IQR\n",
    "    cleaned_df = df[(df[column] >= lower_bound) & (df[column] <= upper_bound)]\n",
    "    return cleaned_df"
   ]
  },
  {
   "cell_type": "code",
   "execution_count": 6,
   "id": "ed4b46bd",
   "metadata": {
    "ExecuteTime": {
     "end_time": "2025-09-01T13:59:36.871563Z",
     "start_time": "2025-09-01T13:59:36.848550Z"
    }
   },
   "outputs": [
    {
     "name": "stdout",
     "output_type": "stream",
     "text": [
      "Original shape: (21613, 21)\n",
      "After outlier removal: (19687, 21)\n"
     ]
    }
   ],
   "source": [
    "df_cleaned = df.copy()\n",
    "for col in ['price','sqft_living','bedrooms']:\n",
    "    df_cleaned = remove_outliers(df_cleaned, col)\n",
    "\n",
    "print(\"Original shape:\", df.shape)\n",
    "print(\"After outlier removal:\", df_cleaned.shape)"
   ]
  },
  {
   "cell_type": "markdown",
   "id": "e0d4000d",
   "metadata": {},
   "source": [
    "Justification:\n",
    "\n",
    "Price: Some multimillion-dollar homes may still be valid (mansions, waterfront properties). So be careful not to remove genuine luxury properties unless they’re absurdly far from the rest.\n",
    "\n",
    "sqft_living: A house with 10,000+ sqft might exist, but if it’s way outside the data trend, so we trim it.\n",
    "\n",
    "Bedrooms: 33 bedrooms are not possible so thats an outliers. Realistic max is 10."
   ]
  },
  {
   "cell_type": "code",
   "execution_count": 7,
   "id": "4e8a9452",
   "metadata": {
    "ExecuteTime": {
     "end_time": "2025-09-01T13:59:37.184335Z",
     "start_time": "2025-09-01T13:59:36.874735Z"
    }
   },
   "outputs": [
    {
     "data": {
      "image/png": "[encoded data removed]",
      "text/plain": [
       "<Figure size 640x480 with 3 Axes>"
      ]
     },
     "metadata": {},
     "output_type": "display_data"
    }
   ],
   "source": [
    "for i, col in enumerate(['price','sqft_living','bedrooms']):\n",
    "    plt.subplot(1,3,i+1)\n",
    "    sns.boxplot(y=df_cleaned[col])\n",
    "    plt.title(f'Boxplot of {col}')\n",
    "\n",
    "plt.tight_layout()\n",
    "plt.show()"
   ]
  },
  {
   "cell_type": "code",
   "execution_count": 8,
   "id": "fd188b4f",
   "metadata": {
    "ExecuteTime": {
     "end_time": "2025-09-01T13:59:37.204598Z",
     "start_time": "2025-09-01T13:59:37.186244Z"
    }
   },
   "outputs": [
    {
     "data": {
      "text/html": [
       "<div>\n",
       "<style scoped>\n",
       "    .dataframe tbody tr th:only-of-type {\n",
       "        vertical-align: middle;\n",
       "    }\n",
       "\n",
       "    .dataframe tbody tr th {\n",
       "        vertical-align: top;\n",
       "    }\n",
       "\n",
       "    .dataframe thead th {\n",
       "        text-align: right;\n",
       "    }\n",
       "</style>\n",
       "<table border=\"1\" class=\"dataframe\">\n",
       "  <thead>\n",
       "    <tr style=\"text-align: right;\">\n",
       "      <th></th>\n",
       "      <th>id</th>\n",
       "      <th>date</th>\n",
       "      <th>price</th>\n",
       "      <th>bedrooms</th>\n",
       "      <th>bathrooms</th>\n",
       "      <th>sqft_living</th>\n",
       "      <th>sqft_lot</th>\n",
       "      <th>floors</th>\n",
       "      <th>waterfront</th>\n",
       "      <th>view</th>\n",
       "      <th>...</th>\n",
       "      <th>grade</th>\n",
       "      <th>sqft_above</th>\n",
       "      <th>sqft_basement</th>\n",
       "      <th>yr_built</th>\n",
       "      <th>yr_renovated</th>\n",
       "      <th>zipcode</th>\n",
       "      <th>lat</th>\n",
       "      <th>long</th>\n",
       "      <th>sqft_living15</th>\n",
       "      <th>sqft_lot15</th>\n",
       "    </tr>\n",
       "  </thead>\n",
       "  <tbody>\n",
       "    <tr>\n",
       "      <th>0</th>\n",
       "      <td>7129300520</td>\n",
       "      <td>20141013T000000</td>\n",
       "      <td>221900</td>\n",
       "      <td>3</td>\n",
       "      <td>1.00</td>\n",
       "      <td>1180</td>\n",
       "      <td>5650</td>\n",
       "      <td>1.0</td>\n",
       "      <td>0</td>\n",
       "      <td>0</td>\n",
       "      <td>...</td>\n",
       "      <td>7</td>\n",
       "      <td>1180</td>\n",
       "      <td>0</td>\n",
       "      <td>1955</td>\n",
       "      <td>0</td>\n",
       "      <td>98178</td>\n",
       "      <td>47.5112</td>\n",
       "      <td>-122.257</td>\n",
       "      <td>1340</td>\n",
       "      <td>5650</td>\n",
       "    </tr>\n",
       "    <tr>\n",
       "      <th>1</th>\n",
       "      <td>6414100192</td>\n",
       "      <td>20141209T000000</td>\n",
       "      <td>538000</td>\n",
       "      <td>3</td>\n",
       "      <td>2.25</td>\n",
       "      <td>2570</td>\n",
       "      <td>7242</td>\n",
       "      <td>2.0</td>\n",
       "      <td>0</td>\n",
       "      <td>0</td>\n",
       "      <td>...</td>\n",
       "      <td>7</td>\n",
       "      <td>2170</td>\n",
       "      <td>400</td>\n",
       "      <td>1951</td>\n",
       "      <td>1991</td>\n",
       "      <td>98125</td>\n",
       "      <td>47.7210</td>\n",
       "      <td>-122.319</td>\n",
       "      <td>1690</td>\n",
       "      <td>7639</td>\n",
       "    </tr>\n",
       "    <tr>\n",
       "      <th>2</th>\n",
       "      <td>5631500400</td>\n",
       "      <td>20150225T000000</td>\n",
       "      <td>180000</td>\n",
       "      <td>2</td>\n",
       "      <td>1.00</td>\n",
       "      <td>770</td>\n",
       "      <td>10000</td>\n",
       "      <td>1.0</td>\n",
       "      <td>0</td>\n",
       "      <td>0</td>\n",
       "      <td>...</td>\n",
       "      <td>6</td>\n",
       "      <td>770</td>\n",
       "      <td>0</td>\n",
       "      <td>1933</td>\n",
       "      <td>0</td>\n",
       "      <td>98028</td>\n",
       "      <td>47.7379</td>\n",
       "      <td>-122.233</td>\n",
       "      <td>2720</td>\n",
       "      <td>8062</td>\n",
       "    </tr>\n",
       "    <tr>\n",
       "      <th>3</th>\n",
       "      <td>2487200875</td>\n",
       "      <td>20141209T000000</td>\n",
       "      <td>604000</td>\n",
       "      <td>4</td>\n",
       "      <td>3.00</td>\n",
       "      <td>1960</td>\n",
       "      <td>5000</td>\n",
       "      <td>1.0</td>\n",
       "      <td>0</td>\n",
       "      <td>0</td>\n",
       "      <td>...</td>\n",
       "      <td>7</td>\n",
       "      <td>1050</td>\n",
       "      <td>910</td>\n",
       "      <td>1965</td>\n",
       "      <td>0</td>\n",
       "      <td>98136</td>\n",
       "      <td>47.5208</td>\n",
       "      <td>-122.393</td>\n",
       "      <td>1360</td>\n",
       "      <td>5000</td>\n",
       "    </tr>\n",
       "    <tr>\n",
       "      <th>4</th>\n",
       "      <td>1954400510</td>\n",
       "      <td>20150218T000000</td>\n",
       "      <td>510000</td>\n",
       "      <td>3</td>\n",
       "      <td>2.00</td>\n",
       "      <td>1680</td>\n",
       "      <td>8080</td>\n",
       "      <td>1.0</td>\n",
       "      <td>0</td>\n",
       "      <td>0</td>\n",
       "      <td>...</td>\n",
       "      <td>8</td>\n",
       "      <td>1680</td>\n",
       "      <td>0</td>\n",
       "      <td>1987</td>\n",
       "      <td>0</td>\n",
       "      <td>98074</td>\n",
       "      <td>47.6168</td>\n",
       "      <td>-122.045</td>\n",
       "      <td>1800</td>\n",
       "      <td>7503</td>\n",
       "    </tr>\n",
       "  </tbody>\n",
       "</table>\n",
       "<p>5 rows × 21 columns</p>\n",
       "</div>"
      ],
      "text/plain": [
       "           id             date   price  bedrooms  bathrooms  sqft_living  \\\n",
       "0  7129300520  20141013T000000  221900         3       1.00         1180   \n",
       "1  6414100192  20141209T000000  538000         3       2.25         2570   \n",
       "2  5631500400  20150225T000000  180000         2       1.00          770   \n",
       "3  2487200875  20141209T000000  604000         4       3.00         1960   \n",
       "4  1954400510  20150218T000000  510000         3       2.00         1680   \n",
       "\n",
       "   sqft_lot  floors  waterfront  view  ...  grade  sqft_above  sqft_basement  \\\n",
       "0      5650     1.0           0     0  ...      7        1180              0   \n",
       "1      7242     2.0           0     0  ...      7        2170            400   \n",
       "2     10000     1.0           0     0  ...      6         770              0   \n",
       "3      5000     1.0           0     0  ...      7        1050            910   \n",
       "4      8080     1.0           0     0  ...      8        1680              0   \n",
       "\n",
       "   yr_built  yr_renovated  zipcode      lat     long  sqft_living15  \\\n",
       "0      1955             0    98178  47.5112 -122.257           1340   \n",
       "1      1951          1991    98125  47.7210 -122.319           1690   \n",
       "2      1933             0    98028  47.7379 -122.233           2720   \n",
       "3      1965             0    98136  47.5208 -122.393           1360   \n",
       "4      1987             0    98074  47.6168 -122.045           1800   \n",
       "\n",
       "   sqft_lot15  \n",
       "0        5650  \n",
       "1        7639  \n",
       "2        8062  \n",
       "3        5000  \n",
       "4        7503  \n",
       "\n",
       "[5 rows x 21 columns]"
      ]
     },
     "execution_count": 8,
     "metadata": {},
     "output_type": "execute_result"
    }
   ],
   "source": [
    "df=df_cleaned\n",
    "df.head()"
   ]
  },
  {
   "cell_type": "code",
   "execution_count": 9,
   "id": "6c6e9384",
   "metadata": {
    "ExecuteTime": {
     "end_time": "2025-09-01T13:59:37.218462Z",
     "start_time": "2025-09-01T13:59:37.206883Z"
    }
   },
   "outputs": [],
   "source": [
    "df['date']=pd.to_datetime(df['date'],errors='coerce')"
   ]
  },
  {
   "cell_type": "code",
   "execution_count": 10,
   "id": "5d54222a",
   "metadata": {
    "ExecuteTime": {
     "end_time": "2025-09-01T13:59:37.234267Z",
     "start_time": "2025-09-01T13:59:37.220830Z"
    }
   },
   "outputs": [],
   "source": [
    "df['sale_year'] = df['date'].dt.year\n",
    "df['sale_month'] = df['date'].dt.month\n",
    "df['house_age'] = df['sale_year'] - df['yr_built']"
   ]
  },
  {
   "cell_type": "code",
   "execution_count": 11,
   "id": "b46df051",
   "metadata": {
    "ExecuteTime": {
     "end_time": "2025-09-01T13:59:37.250668Z",
     "start_time": "2025-09-01T13:59:37.236431Z"
    }
   },
   "outputs": [],
   "source": [
    "df['was_renovated'] = df['yr_renovated'].apply(lambda x: 1 if x > 0 else 0)"
   ]
  },
  {
   "cell_type": "code",
   "execution_count": 12,
   "id": "44688f7b",
   "metadata": {
    "ExecuteTime": {
     "end_time": "2025-09-01T13:59:37.260701Z",
     "start_time": "2025-09-01T13:59:37.254162Z"
    }
   },
   "outputs": [],
   "source": [
    "def calculate_age_of_house(row):\n",
    "    if row['yr_renovated'] > 0:\n",
    "        return row['sale_year'] - row['yr_renovated']\n",
    "    else:\n",
    "        return row['house_age']"
   ]
  },
  {
   "cell_type": "code",
   "execution_count": 13,
   "id": "f24aaa5c",
   "metadata": {
    "ExecuteTime": {
     "end_time": "2025-09-01T13:59:37.456767Z",
     "start_time": "2025-09-01T13:59:37.263829Z"
    }
   },
   "outputs": [],
   "source": [
    "df['age_since_renovation'] = df.apply(calculate_age_of_house, axis=1)"
   ]
  },
  {
   "cell_type": "code",
   "execution_count": 14,
   "id": "3449a507",
   "metadata": {
    "ExecuteTime": {
     "end_time": "2025-09-01T13:59:37.645249Z",
     "start_time": "2025-09-01T13:59:37.458883Z"
    }
   },
   "outputs": [],
   "source": [
    "df['sqft_living_per_floor'] = df.apply(lambda row: row['sqft_living']/row['floors'] \n",
    "                                       if row['floors'] > 0 else row['sqft_living'], axis=1)"
   ]
  },
  {
   "cell_type": "code",
   "execution_count": 15,
   "id": "0fb3a997",
   "metadata": {
    "ExecuteTime": {
     "end_time": "2025-09-01T13:59:37.830195Z",
     "start_time": "2025-09-01T13:59:37.646742Z"
    }
   },
   "outputs": [],
   "source": [
    "df['bath_per_bed'] = df.apply(lambda row: row['bathrooms']/row['bedrooms'] \n",
    "                              if row['bedrooms'] > 0 else row['bathrooms'], axis=1)"
   ]
  },
  {
   "cell_type": "code",
   "execution_count": 16,
   "id": "c1fc238d",
   "metadata": {
    "ExecuteTime": {
     "end_time": "2025-09-01T13:59:37.848584Z",
     "start_time": "2025-09-01T13:59:37.831767Z"
    }
   },
   "outputs": [
    {
     "data": {
      "text/html": [
       "<div>\n",
       "<style scoped>\n",
       "    .dataframe tbody tr th:only-of-type {\n",
       "        vertical-align: middle;\n",
       "    }\n",
       "\n",
       "    .dataframe tbody tr th {\n",
       "        vertical-align: top;\n",
       "    }\n",
       "\n",
       "    .dataframe thead th {\n",
       "        text-align: right;\n",
       "    }\n",
       "</style>\n",
       "<table border=\"1\" class=\"dataframe\">\n",
       "  <thead>\n",
       "    <tr style=\"text-align: right;\">\n",
       "      <th></th>\n",
       "      <th>id</th>\n",
       "      <th>date</th>\n",
       "      <th>price</th>\n",
       "      <th>bedrooms</th>\n",
       "      <th>bathrooms</th>\n",
       "      <th>sqft_living</th>\n",
       "      <th>sqft_lot</th>\n",
       "      <th>floors</th>\n",
       "      <th>waterfront</th>\n",
       "      <th>view</th>\n",
       "      <th>...</th>\n",
       "      <th>long</th>\n",
       "      <th>sqft_living15</th>\n",
       "      <th>sqft_lot15</th>\n",
       "      <th>sale_year</th>\n",
       "      <th>sale_month</th>\n",
       "      <th>house_age</th>\n",
       "      <th>was_renovated</th>\n",
       "      <th>age_since_renovation</th>\n",
       "      <th>sqft_living_per_floor</th>\n",
       "      <th>bath_per_bed</th>\n",
       "    </tr>\n",
       "  </thead>\n",
       "  <tbody>\n",
       "    <tr>\n",
       "      <th>21608</th>\n",
       "      <td>263000018</td>\n",
       "      <td>2014-05-21</td>\n",
       "      <td>360000</td>\n",
       "      <td>3</td>\n",
       "      <td>2.50</td>\n",
       "      <td>1530</td>\n",
       "      <td>1131</td>\n",
       "      <td>3.0</td>\n",
       "      <td>0</td>\n",
       "      <td>0</td>\n",
       "      <td>...</td>\n",
       "      <td>-122.346</td>\n",
       "      <td>1530</td>\n",
       "      <td>1509</td>\n",
       "      <td>2014</td>\n",
       "      <td>5</td>\n",
       "      <td>5</td>\n",
       "      <td>0</td>\n",
       "      <td>5</td>\n",
       "      <td>510.0</td>\n",
       "      <td>0.833333</td>\n",
       "    </tr>\n",
       "    <tr>\n",
       "      <th>21609</th>\n",
       "      <td>6600060120</td>\n",
       "      <td>2015-02-23</td>\n",
       "      <td>400000</td>\n",
       "      <td>4</td>\n",
       "      <td>2.50</td>\n",
       "      <td>2310</td>\n",
       "      <td>5813</td>\n",
       "      <td>2.0</td>\n",
       "      <td>0</td>\n",
       "      <td>0</td>\n",
       "      <td>...</td>\n",
       "      <td>-122.362</td>\n",
       "      <td>1830</td>\n",
       "      <td>7200</td>\n",
       "      <td>2015</td>\n",
       "      <td>2</td>\n",
       "      <td>1</td>\n",
       "      <td>0</td>\n",
       "      <td>1</td>\n",
       "      <td>1155.0</td>\n",
       "      <td>0.625000</td>\n",
       "    </tr>\n",
       "    <tr>\n",
       "      <th>21610</th>\n",
       "      <td>1523300141</td>\n",
       "      <td>2014-06-23</td>\n",
       "      <td>402101</td>\n",
       "      <td>2</td>\n",
       "      <td>0.75</td>\n",
       "      <td>1020</td>\n",
       "      <td>1350</td>\n",
       "      <td>2.0</td>\n",
       "      <td>0</td>\n",
       "      <td>0</td>\n",
       "      <td>...</td>\n",
       "      <td>-122.299</td>\n",
       "      <td>1020</td>\n",
       "      <td>2007</td>\n",
       "      <td>2014</td>\n",
       "      <td>6</td>\n",
       "      <td>5</td>\n",
       "      <td>0</td>\n",
       "      <td>5</td>\n",
       "      <td>510.0</td>\n",
       "      <td>0.375000</td>\n",
       "    </tr>\n",
       "    <tr>\n",
       "      <th>21611</th>\n",
       "      <td>291310100</td>\n",
       "      <td>2015-01-16</td>\n",
       "      <td>400000</td>\n",
       "      <td>3</td>\n",
       "      <td>2.50</td>\n",
       "      <td>1600</td>\n",
       "      <td>2388</td>\n",
       "      <td>2.0</td>\n",
       "      <td>0</td>\n",
       "      <td>0</td>\n",
       "      <td>...</td>\n",
       "      <td>-122.069</td>\n",
       "      <td>1410</td>\n",
       "      <td>1287</td>\n",
       "      <td>2015</td>\n",
       "      <td>1</td>\n",
       "      <td>11</td>\n",
       "      <td>0</td>\n",
       "      <td>11</td>\n",
       "      <td>800.0</td>\n",
       "      <td>0.833333</td>\n",
       "    </tr>\n",
       "    <tr>\n",
       "      <th>21612</th>\n",
       "      <td>1523300157</td>\n",
       "      <td>2014-10-15</td>\n",
       "      <td>325000</td>\n",
       "      <td>2</td>\n",
       "      <td>0.75</td>\n",
       "      <td>1020</td>\n",
       "      <td>1076</td>\n",
       "      <td>2.0</td>\n",
       "      <td>0</td>\n",
       "      <td>0</td>\n",
       "      <td>...</td>\n",
       "      <td>-122.299</td>\n",
       "      <td>1020</td>\n",
       "      <td>1357</td>\n",
       "      <td>2014</td>\n",
       "      <td>10</td>\n",
       "      <td>6</td>\n",
       "      <td>0</td>\n",
       "      <td>6</td>\n",
       "      <td>510.0</td>\n",
       "      <td>0.375000</td>\n",
       "    </tr>\n",
       "  </tbody>\n",
       "</table>\n",
       "<p>5 rows × 28 columns</p>\n",
       "</div>"
      ],
      "text/plain": [
       "               id       date   price  bedrooms  bathrooms  sqft_living  \\\n",
       "21608   263000018 2014-05-21  360000         3       2.50         1530   \n",
       "21609  6600060120 2015-02-23  400000         4       2.50         2310   \n",
       "21610  1523300141 2014-06-23  402101         2       0.75         1020   \n",
       "21611   291310100 2015-01-16  400000         3       2.50         1600   \n",
       "21612  1523300157 2014-10-15  325000         2       0.75         1020   \n",
       "\n",
       "       sqft_lot  floors  waterfront  view  ...     long  sqft_living15  \\\n",
       "21608      1131     3.0           0     0  ... -122.346           1530   \n",
       "21609      5813     2.0           0     0  ... -122.362           1830   \n",
       "21610      1350     2.0           0     0  ... -122.299           1020   \n",
       "21611      2388     2.0           0     0  ... -122.069           1410   \n",
       "21612      1076     2.0           0     0  ... -122.299           1020   \n",
       "\n",
       "       sqft_lot15  sale_year  sale_month  house_age  was_renovated  \\\n",
       "21608        1509       2014           5          5              0   \n",
       "21609        7200       2015           2          1              0   \n",
       "21610        2007       2014           6          5              0   \n",
       "21611        1287       2015           1         11              0   \n",
       "21612        1357       2014          10          6              0   \n",
       "\n",
       "       age_since_renovation  sqft_living_per_floor  bath_per_bed  \n",
       "21608                     5                  510.0      0.833333  \n",
       "21609                     1                 1155.0      0.625000  \n",
       "21610                     5                  510.0      0.375000  \n",
       "21611                    11                  800.0      0.833333  \n",
       "21612                     6                  510.0      0.375000  \n",
       "\n",
       "[5 rows x 28 columns]"
      ]
     },
     "execution_count": 16,
     "metadata": {},
     "output_type": "execute_result"
    }
   ],
   "source": [
    "df.tail()"
   ]
  },
  {
   "cell_type": "code",
   "execution_count": 17,
   "id": "8410853f",
   "metadata": {
    "ExecuteTime": {
     "end_time": "2025-09-01T13:59:37.863434Z",
     "start_time": "2025-09-01T13:59:37.850679Z"
    }
   },
   "outputs": [
    {
     "name": "stdout",
     "output_type": "stream",
     "text": [
      "<class 'pandas.core.frame.DataFrame'>\n",
      "Index: 19687 entries, 0 to 21612\n",
      "Data columns (total 28 columns):\n",
      " #   Column                 Non-Null Count  Dtype         \n",
      "---  ------                 --------------  -----         \n",
      " 0   id                     19687 non-null  int64         \n",
      " 1   date                   19687 non-null  datetime64[ns]\n",
      " 2   price                  19687 non-null  int64         \n",
      " 3   bedrooms               19687 non-null  int64         \n",
      " 4   bathrooms              19687 non-null  float64       \n",
      " 5   sqft_living            19687 non-null  int64         \n",
      " 6   sqft_lot               19687 non-null  int64         \n",
      " 7   floors                 19687 non-null  float64       \n",
      " 8   waterfront             19687 non-null  int64         \n",
      " 9   view                   19687 non-null  int64         \n",
      " 10  condition              19687 non-null  int64         \n",
      " 11  grade                  19687 non-null  int64         \n",
      " 12  sqft_above             19687 non-null  int64         \n",
      " 13  sqft_basement          19687 non-null  int64         \n",
      " 14  yr_built               19687 non-null  int64         \n",
      " 15  yr_renovated           19687 non-null  int64         \n",
      " 16  zipcode                19687 non-null  int64         \n",
      " 17  lat                    19687 non-null  float64       \n",
      " 18  long                   19687 non-null  float64       \n",
      " 19  sqft_living15          19687 non-null  int64         \n",
      " 20  sqft_lot15             19687 non-null  int64         \n",
      " 21  sale_year              19687 non-null  int32         \n",
      " 22  sale_month             19687 non-null  int32         \n",
      " 23  house_age              19687 non-null  int64         \n",
      " 24  was_renovated          19687 non-null  int64         \n",
      " 25  age_since_renovation   19687 non-null  int64         \n",
      " 26  sqft_living_per_floor  19687 non-null  float64       \n",
      " 27  bath_per_bed           19687 non-null  float64       \n",
      "dtypes: datetime64[ns](1), float64(6), int32(2), int64(19)\n",
      "memory usage: 4.2 MB\n"
     ]
    }
   ],
   "source": [
    "df.info()"
   ]
  },
  {
   "cell_type": "code",
   "execution_count": 18,
   "id": "7b98748c",
   "metadata": {
    "ExecuteTime": {
     "end_time": "2025-09-01T13:59:37.934939Z",
     "start_time": "2025-09-01T13:59:37.865386Z"
    }
   },
   "outputs": [
    {
     "data": {
      "text/html": [
       "<div>\n",
       "<style scoped>\n",
       "    .dataframe tbody tr th:only-of-type {\n",
       "        vertical-align: middle;\n",
       "    }\n",
       "\n",
       "    .dataframe tbody tr th {\n",
       "        vertical-align: top;\n",
       "    }\n",
       "\n",
       "    .dataframe thead th {\n",
       "        text-align: right;\n",
       "    }\n",
       "</style>\n",
       "<table border=\"1\" class=\"dataframe\">\n",
       "  <thead>\n",
       "    <tr style=\"text-align: right;\">\n",
       "      <th></th>\n",
       "      <th>id</th>\n",
       "      <th>date</th>\n",
       "      <th>price</th>\n",
       "      <th>bedrooms</th>\n",
       "      <th>bathrooms</th>\n",
       "      <th>sqft_living</th>\n",
       "      <th>sqft_lot</th>\n",
       "      <th>floors</th>\n",
       "      <th>waterfront</th>\n",
       "      <th>view</th>\n",
       "      <th>...</th>\n",
       "      <th>long</th>\n",
       "      <th>sqft_living15</th>\n",
       "      <th>sqft_lot15</th>\n",
       "      <th>sale_year</th>\n",
       "      <th>sale_month</th>\n",
       "      <th>house_age</th>\n",
       "      <th>was_renovated</th>\n",
       "      <th>age_since_renovation</th>\n",
       "      <th>sqft_living_per_floor</th>\n",
       "      <th>bath_per_bed</th>\n",
       "    </tr>\n",
       "  </thead>\n",
       "  <tbody>\n",
       "    <tr>\n",
       "      <th>count</th>\n",
       "      <td>1.968700e+04</td>\n",
       "      <td>19687</td>\n",
       "      <td>1.968700e+04</td>\n",
       "      <td>19687.000000</td>\n",
       "      <td>19687.000000</td>\n",
       "      <td>19687.000000</td>\n",
       "      <td>1.968700e+04</td>\n",
       "      <td>19687.000000</td>\n",
       "      <td>19687.000000</td>\n",
       "      <td>19687.000000</td>\n",
       "      <td>...</td>\n",
       "      <td>19687.000000</td>\n",
       "      <td>19687.000000</td>\n",
       "      <td>19687.000000</td>\n",
       "      <td>19687.000000</td>\n",
       "      <td>19687.000000</td>\n",
       "      <td>19687.000000</td>\n",
       "      <td>19687.000000</td>\n",
       "      <td>19687.000000</td>\n",
       "      <td>19687.000000</td>\n",
       "      <td>19687.000000</td>\n",
       "    </tr>\n",
       "    <tr>\n",
       "      <th>mean</th>\n",
       "      <td>4.619142e+09</td>\n",
       "      <td>2014-10-29 09:19:07.091989504</td>\n",
       "      <td>4.712852e+05</td>\n",
       "      <td>3.298776</td>\n",
       "      <td>2.029664</td>\n",
       "      <td>1936.357241</td>\n",
       "      <td>1.397226e+04</td>\n",
       "      <td>1.471733</td>\n",
       "      <td>0.002794</td>\n",
       "      <td>0.165185</td>\n",
       "      <td>...</td>\n",
       "      <td>-122.214155</td>\n",
       "      <td>1904.727282</td>\n",
       "      <td>12034.459542</td>\n",
       "      <td>2014.323716</td>\n",
       "      <td>6.570986</td>\n",
       "      <td>43.456088</td>\n",
       "      <td>0.036420</td>\n",
       "      <td>41.373851</td>\n",
       "      <td>1420.645115</td>\n",
       "      <td>0.626788</td>\n",
       "    </tr>\n",
       "    <tr>\n",
       "      <th>min</th>\n",
       "      <td>1.200019e+06</td>\n",
       "      <td>2014-05-02 00:00:00</td>\n",
       "      <td>7.800000e+04</td>\n",
       "      <td>2.000000</td>\n",
       "      <td>0.500000</td>\n",
       "      <td>440.000000</td>\n",
       "      <td>5.200000e+02</td>\n",
       "      <td>1.000000</td>\n",
       "      <td>0.000000</td>\n",
       "      <td>0.000000</td>\n",
       "      <td>...</td>\n",
       "      <td>-122.519000</td>\n",
       "      <td>399.000000</td>\n",
       "      <td>651.000000</td>\n",
       "      <td>2014.000000</td>\n",
       "      <td>1.000000</td>\n",
       "      <td>-1.000000</td>\n",
       "      <td>0.000000</td>\n",
       "      <td>-1.000000</td>\n",
       "      <td>273.333333</td>\n",
       "      <td>0.125000</td>\n",
       "    </tr>\n",
       "    <tr>\n",
       "      <th>25%</th>\n",
       "      <td>2.143701e+09</td>\n",
       "      <td>2014-07-22 00:00:00</td>\n",
       "      <td>3.150000e+05</td>\n",
       "      <td>3.000000</td>\n",
       "      <td>1.500000</td>\n",
       "      <td>1400.000000</td>\n",
       "      <td>5.000000e+03</td>\n",
       "      <td>1.000000</td>\n",
       "      <td>0.000000</td>\n",
       "      <td>0.000000</td>\n",
       "      <td>...</td>\n",
       "      <td>-122.330000</td>\n",
       "      <td>1470.000000</td>\n",
       "      <td>5040.000000</td>\n",
       "      <td>2014.000000</td>\n",
       "      <td>4.000000</td>\n",
       "      <td>19.000000</td>\n",
       "      <td>0.000000</td>\n",
       "      <td>16.000000</td>\n",
       "      <td>1010.000000</td>\n",
       "      <td>0.500000</td>\n",
       "    </tr>\n",
       "    <tr>\n",
       "      <th>50%</th>\n",
       "      <td>3.935900e+09</td>\n",
       "      <td>2014-10-16 00:00:00</td>\n",
       "      <td>4.350000e+05</td>\n",
       "      <td>3.000000</td>\n",
       "      <td>2.000000</td>\n",
       "      <td>1840.000000</td>\n",
       "      <td>7.488000e+03</td>\n",
       "      <td>1.000000</td>\n",
       "      <td>0.000000</td>\n",
       "      <td>0.000000</td>\n",
       "      <td>...</td>\n",
       "      <td>-122.233000</td>\n",
       "      <td>1790.000000</td>\n",
       "      <td>7510.000000</td>\n",
       "      <td>2014.000000</td>\n",
       "      <td>6.000000</td>\n",
       "      <td>40.000000</td>\n",
       "      <td>0.000000</td>\n",
       "      <td>38.000000</td>\n",
       "      <td>1325.000000</td>\n",
       "      <td>0.625000</td>\n",
       "    </tr>\n",
       "    <tr>\n",
       "      <th>75%</th>\n",
       "      <td>7.349650e+09</td>\n",
       "      <td>2015-02-17 00:00:00</td>\n",
       "      <td>5.950000e+05</td>\n",
       "      <td>4.000000</td>\n",
       "      <td>2.500000</td>\n",
       "      <td>2390.000000</td>\n",
       "      <td>1.020000e+04</td>\n",
       "      <td>2.000000</td>\n",
       "      <td>0.000000</td>\n",
       "      <td>0.000000</td>\n",
       "      <td>...</td>\n",
       "      <td>-122.124000</td>\n",
       "      <td>2260.000000</td>\n",
       "      <td>9794.000000</td>\n",
       "      <td>2015.000000</td>\n",
       "      <td>9.000000</td>\n",
       "      <td>63.000000</td>\n",
       "      <td>0.000000</td>\n",
       "      <td>60.000000</td>\n",
       "      <td>1740.000000</td>\n",
       "      <td>0.750000</td>\n",
       "    </tr>\n",
       "    <tr>\n",
       "      <th>max</th>\n",
       "      <td>9.900000e+09</td>\n",
       "      <td>2015-05-24 00:00:00</td>\n",
       "      <td>1.127000e+06</td>\n",
       "      <td>5.000000</td>\n",
       "      <td>4.750000</td>\n",
       "      <td>3970.000000</td>\n",
       "      <td>1.651359e+06</td>\n",
       "      <td>3.500000</td>\n",
       "      <td>1.000000</td>\n",
       "      <td>4.000000</td>\n",
       "      <td>...</td>\n",
       "      <td>-121.315000</td>\n",
       "      <td>4950.000000</td>\n",
       "      <td>560617.000000</td>\n",
       "      <td>2015.000000</td>\n",
       "      <td>12.000000</td>\n",
       "      <td>115.000000</td>\n",
       "      <td>1.000000</td>\n",
       "      <td>115.000000</td>\n",
       "      <td>3950.000000</td>\n",
       "      <td>1.750000</td>\n",
       "    </tr>\n",
       "    <tr>\n",
       "      <th>std</th>\n",
       "      <td>2.878786e+09</td>\n",
       "      <td>NaN</td>\n",
       "      <td>2.026677e+05</td>\n",
       "      <td>0.783108</td>\n",
       "      <td>0.675061</td>\n",
       "      <td>702.291823</td>\n",
       "      <td>3.788865e+04</td>\n",
       "      <td>0.537245</td>\n",
       "      <td>0.052783</td>\n",
       "      <td>0.625933</td>\n",
       "      <td>...</td>\n",
       "      <td>0.141686</td>\n",
       "      <td>588.599607</td>\n",
       "      <td>24848.387969</td>\n",
       "      <td>0.467905</td>\n",
       "      <td>3.115708</td>\n",
       "      <td>29.030539</td>\n",
       "      <td>0.187338</td>\n",
       "      <td>28.525196</td>\n",
       "      <td>574.950927</td>\n",
       "      <td>0.200236</td>\n",
       "    </tr>\n",
       "  </tbody>\n",
       "</table>\n",
       "<p>8 rows × 28 columns</p>\n",
       "</div>"
      ],
      "text/plain": [
       "                 id                           date         price  \\\n",
       "count  1.968700e+04                          19687  1.968700e+04   \n",
       "mean   4.619142e+09  2014-10-29 09:19:07.091989504  4.712852e+05   \n",
       "min    1.200019e+06            2014-05-02 00:00:00  7.800000e+04   \n",
       "25%    2.143701e+09            2014-07-22 00:00:00  3.150000e+05   \n",
       "50%    3.935900e+09            2014-10-16 00:00:00  4.350000e+05   \n",
       "75%    7.349650e+09            2015-02-17 00:00:00  5.950000e+05   \n",
       "max    9.900000e+09            2015-05-24 00:00:00  1.127000e+06   \n",
       "std    2.878786e+09                            NaN  2.026677e+05   \n",
       "\n",
       "           bedrooms     bathrooms   sqft_living      sqft_lot        floors  \\\n",
       "count  19687.000000  19687.000000  19687.000000  1.968700e+04  19687.000000   \n",
       "mean       3.298776      2.029664   1936.357241  1.397226e+04      1.471733   \n",
       "min        2.000000      0.500000    440.000000  5.200000e+02      1.000000   \n",
       "25%        3.000000      1.500000   1400.000000  5.000000e+03      1.000000   \n",
       "50%        3.000000      2.000000   1840.000000  7.488000e+03      1.000000   \n",
       "75%        4.000000      2.500000   2390.000000  1.020000e+04      2.000000   \n",
       "max        5.000000      4.750000   3970.000000  1.651359e+06      3.500000   \n",
       "std        0.783108      0.675061    702.291823  3.788865e+04      0.537245   \n",
       "\n",
       "         waterfront          view  ...          long  sqft_living15  \\\n",
       "count  19687.000000  19687.000000  ...  19687.000000   19687.000000   \n",
       "mean       0.002794      0.165185  ...   -122.214155    1904.727282   \n",
       "min        0.000000      0.000000  ...   -122.519000     399.000000   \n",
       "25%        0.000000      0.000000  ...   -122.330000    1470.000000   \n",
       "50%        0.000000      0.000000  ...   -122.233000    1790.000000   \n",
       "75%        0.000000      0.000000  ...   -122.124000    2260.000000   \n",
       "max        1.000000      4.000000  ...   -121.315000    4950.000000   \n",
       "std        0.052783      0.625933  ...      0.141686     588.599607   \n",
       "\n",
       "          sqft_lot15     sale_year    sale_month     house_age  was_renovated  \\\n",
       "count   19687.000000  19687.000000  19687.000000  19687.000000   19687.000000   \n",
       "mean    12034.459542   2014.323716      6.570986     43.456088       0.036420   \n",
       "min       651.000000   2014.000000      1.000000     -1.000000       0.000000   \n",
       "25%      5040.000000   2014.000000      4.000000     19.000000       0.000000   \n",
       "50%      7510.000000   2014.000000      6.000000     40.000000       0.000000   \n",
       "75%      9794.000000   2015.000000      9.000000     63.000000       0.000000   \n",
       "max    560617.000000   2015.000000     12.000000    115.000000       1.000000   \n",
       "std     24848.387969      0.467905      3.115708     29.030539       0.187338   \n",
       "\n",
       "       age_since_renovation  sqft_living_per_floor  bath_per_bed  \n",
       "count          19687.000000           19687.000000  19687.000000  \n",
       "mean              41.373851            1420.645115      0.626788  \n",
       "min               -1.000000             273.333333      0.125000  \n",
       "25%               16.000000            1010.000000      0.500000  \n",
       "50%               38.000000            1325.000000      0.625000  \n",
       "75%               60.000000            1740.000000      0.750000  \n",
       "max              115.000000            3950.000000      1.750000  \n",
       "std               28.525196             574.950927      0.200236  \n",
       "\n",
       "[8 rows x 28 columns]"
      ]
     },
     "execution_count": 18,
     "metadata": {},
     "output_type": "execute_result"
    }
   ],
   "source": [
    "df.describe()"
   ]
  },
  {
   "cell_type": "code",
   "execution_count": 19,
   "id": "9121e2a6",
   "metadata": {
    "ExecuteTime": {
     "end_time": "2025-09-01T13:59:38.192674Z",
     "start_time": "2025-09-01T13:59:37.936633Z"
    }
   },
   "outputs": [],
   "source": [
    "from sklearn.pipeline import Pipeline\n",
    "from sklearn.compose import ColumnTransformer\n",
    "from sklearn.preprocessing import StandardScaler, OneHotEncoder\n",
    "from sklearn.impute import SimpleImputer"
   ]
  },
  {
   "cell_type": "code",
   "execution_count": 20,
   "id": "5dda2a8e",
   "metadata": {
    "ExecuteTime": {
     "end_time": "2025-09-01T13:59:38.198436Z",
     "start_time": "2025-09-01T13:59:38.194354Z"
    }
   },
   "outputs": [
    {
     "name": "stdout",
     "output_type": "stream",
     "text": [
      "numiercal features in dataset: ['sqft_living', 'sqft_lot', 'house_age', 'sqft_living15', 'sqft_lot15', 'sqft_above', 'sqft_basement', 'bath_per_bed', 'sqft_living_per_floor', 'age_since_renovation']\n"
     ]
    }
   ],
   "source": [
    "numerical_features = [\n",
    "    'sqft_living', 'sqft_lot', 'house_age', 'sqft_living15', 'sqft_lot15',\n",
    "    'sqft_above', 'sqft_basement', 'bath_per_bed', 'sqft_living_per_floor',\n",
    "    'age_since_renovation'\n",
    "]\n",
    "\n",
    "print(\"numiercal features in dataset:\",numerical_features)"
   ]
  },
  {
   "cell_type": "code",
   "execution_count": 21,
   "id": "66fe1384",
   "metadata": {
    "ExecuteTime": {
     "end_time": "2025-09-01T13:59:38.203814Z",
     "start_time": "2025-09-01T13:59:38.200755Z"
    }
   },
   "outputs": [
    {
     "name": "stdout",
     "output_type": "stream",
     "text": [
      "categorical features in dataset: ['zipcode', 'sale_month', 'sale_year']\n"
     ]
    }
   ],
   "source": [
    "categorical_features = ['zipcode', 'sale_month', 'sale_year']\n",
    "print(\"categorical features in dataset:\",categorical_features)"
   ]
  },
  {
   "cell_type": "code",
   "execution_count": 22,
   "id": "f881582e",
   "metadata": {
    "ExecuteTime": {
     "end_time": "2025-09-01T13:59:38.210953Z",
     "start_time": "2025-09-01T13:59:38.206816Z"
    }
   },
   "outputs": [
    {
     "name": "stdout",
     "output_type": "stream",
     "text": [
      "passthrough_features in dataset : ['grade', 'condition', 'was_renovated', 'waterfront', 'view', 'floors', 'bedrooms', 'bathrooms']\n"
     ]
    }
   ],
   "source": [
    "passthrough_features = ['grade', 'condition', 'was_renovated',\n",
    "                        'waterfront', 'view', 'floors',\n",
    "                        'bedrooms', 'bathrooms']\n",
    "print(\"passthrough_features in dataset :\", passthrough_features)"
   ]
  },
  {
   "cell_type": "code",
   "execution_count": 23,
   "id": "bd26bb75",
   "metadata": {
    "ExecuteTime": {
     "end_time": "2025-09-01T13:59:38.234737Z",
     "start_time": "2025-09-01T13:59:38.213849Z"
    }
   },
   "outputs": [
    {
     "data": {
      "text/html": [
       "<div>\n",
       "<style scoped>\n",
       "    .dataframe tbody tr th:only-of-type {\n",
       "        vertical-align: middle;\n",
       "    }\n",
       "\n",
       "    .dataframe tbody tr th {\n",
       "        vertical-align: top;\n",
       "    }\n",
       "\n",
       "    .dataframe thead th {\n",
       "        text-align: right;\n",
       "    }\n",
       "</style>\n",
       "<table border=\"1\" class=\"dataframe\">\n",
       "  <thead>\n",
       "    <tr style=\"text-align: right;\">\n",
       "      <th></th>\n",
       "      <th>id</th>\n",
       "      <th>date</th>\n",
       "      <th>price</th>\n",
       "      <th>bedrooms</th>\n",
       "      <th>bathrooms</th>\n",
       "      <th>sqft_living</th>\n",
       "      <th>sqft_lot</th>\n",
       "      <th>floors</th>\n",
       "      <th>waterfront</th>\n",
       "      <th>view</th>\n",
       "      <th>...</th>\n",
       "      <th>long</th>\n",
       "      <th>sqft_living15</th>\n",
       "      <th>sqft_lot15</th>\n",
       "      <th>sale_year</th>\n",
       "      <th>sale_month</th>\n",
       "      <th>house_age</th>\n",
       "      <th>was_renovated</th>\n",
       "      <th>age_since_renovation</th>\n",
       "      <th>sqft_living_per_floor</th>\n",
       "      <th>bath_per_bed</th>\n",
       "    </tr>\n",
       "  </thead>\n",
       "  <tbody>\n",
       "    <tr>\n",
       "      <th>0</th>\n",
       "      <td>7129300520</td>\n",
       "      <td>2014-10-13</td>\n",
       "      <td>221900</td>\n",
       "      <td>3</td>\n",
       "      <td>1.00</td>\n",
       "      <td>1180</td>\n",
       "      <td>5650</td>\n",
       "      <td>1.0</td>\n",
       "      <td>0</td>\n",
       "      <td>0</td>\n",
       "      <td>...</td>\n",
       "      <td>-122.257</td>\n",
       "      <td>1340</td>\n",
       "      <td>5650</td>\n",
       "      <td>2014</td>\n",
       "      <td>10</td>\n",
       "      <td>59</td>\n",
       "      <td>0</td>\n",
       "      <td>59</td>\n",
       "      <td>1180.0</td>\n",
       "      <td>0.333333</td>\n",
       "    </tr>\n",
       "    <tr>\n",
       "      <th>1</th>\n",
       "      <td>6414100192</td>\n",
       "      <td>2014-12-09</td>\n",
       "      <td>538000</td>\n",
       "      <td>3</td>\n",
       "      <td>2.25</td>\n",
       "      <td>2570</td>\n",
       "      <td>7242</td>\n",
       "      <td>2.0</td>\n",
       "      <td>0</td>\n",
       "      <td>0</td>\n",
       "      <td>...</td>\n",
       "      <td>-122.319</td>\n",
       "      <td>1690</td>\n",
       "      <td>7639</td>\n",
       "      <td>2014</td>\n",
       "      <td>12</td>\n",
       "      <td>63</td>\n",
       "      <td>1</td>\n",
       "      <td>23</td>\n",
       "      <td>1285.0</td>\n",
       "      <td>0.750000</td>\n",
       "    </tr>\n",
       "    <tr>\n",
       "      <th>2</th>\n",
       "      <td>5631500400</td>\n",
       "      <td>2015-02-25</td>\n",
       "      <td>180000</td>\n",
       "      <td>2</td>\n",
       "      <td>1.00</td>\n",
       "      <td>770</td>\n",
       "      <td>10000</td>\n",
       "      <td>1.0</td>\n",
       "      <td>0</td>\n",
       "      <td>0</td>\n",
       "      <td>...</td>\n",
       "      <td>-122.233</td>\n",
       "      <td>2720</td>\n",
       "      <td>8062</td>\n",
       "      <td>2015</td>\n",
       "      <td>2</td>\n",
       "      <td>82</td>\n",
       "      <td>0</td>\n",
       "      <td>82</td>\n",
       "      <td>770.0</td>\n",
       "      <td>0.500000</td>\n",
       "    </tr>\n",
       "    <tr>\n",
       "      <th>3</th>\n",
       "      <td>2487200875</td>\n",
       "      <td>2014-12-09</td>\n",
       "      <td>604000</td>\n",
       "      <td>4</td>\n",
       "      <td>3.00</td>\n",
       "      <td>1960</td>\n",
       "      <td>5000</td>\n",
       "      <td>1.0</td>\n",
       "      <td>0</td>\n",
       "      <td>0</td>\n",
       "      <td>...</td>\n",
       "      <td>-122.393</td>\n",
       "      <td>1360</td>\n",
       "      <td>5000</td>\n",
       "      <td>2014</td>\n",
       "      <td>12</td>\n",
       "      <td>49</td>\n",
       "      <td>0</td>\n",
       "      <td>49</td>\n",
       "      <td>1960.0</td>\n",
       "      <td>0.750000</td>\n",
       "    </tr>\n",
       "    <tr>\n",
       "      <th>4</th>\n",
       "      <td>1954400510</td>\n",
       "      <td>2015-02-18</td>\n",
       "      <td>510000</td>\n",
       "      <td>3</td>\n",
       "      <td>2.00</td>\n",
       "      <td>1680</td>\n",
       "      <td>8080</td>\n",
       "      <td>1.0</td>\n",
       "      <td>0</td>\n",
       "      <td>0</td>\n",
       "      <td>...</td>\n",
       "      <td>-122.045</td>\n",
       "      <td>1800</td>\n",
       "      <td>7503</td>\n",
       "      <td>2015</td>\n",
       "      <td>2</td>\n",
       "      <td>28</td>\n",
       "      <td>0</td>\n",
       "      <td>28</td>\n",
       "      <td>1680.0</td>\n",
       "      <td>0.666667</td>\n",
       "    </tr>\n",
       "  </tbody>\n",
       "</table>\n",
       "<p>5 rows × 28 columns</p>\n",
       "</div>"
      ],
      "text/plain": [
       "           id       date   price  bedrooms  bathrooms  sqft_living  sqft_lot  \\\n",
       "0  7129300520 2014-10-13  221900         3       1.00         1180      5650   \n",
       "1  6414100192 2014-12-09  538000         3       2.25         2570      7242   \n",
       "2  5631500400 2015-02-25  180000         2       1.00          770     10000   \n",
       "3  2487200875 2014-12-09  604000         4       3.00         1960      5000   \n",
       "4  1954400510 2015-02-18  510000         3       2.00         1680      8080   \n",
       "\n",
       "   floors  waterfront  view  ...     long  sqft_living15  sqft_lot15  \\\n",
       "0     1.0           0     0  ... -122.257           1340        5650   \n",
       "1     2.0           0     0  ... -122.319           1690        7639   \n",
       "2     1.0           0     0  ... -122.233           2720        8062   \n",
       "3     1.0           0     0  ... -122.393           1360        5000   \n",
       "4     1.0           0     0  ... -122.045           1800        7503   \n",
       "\n",
       "   sale_year  sale_month  house_age  was_renovated  age_since_renovation  \\\n",
       "0       2014          10         59              0                    59   \n",
       "1       2014          12         63              1                    23   \n",
       "2       2015           2         82              0                    82   \n",
       "3       2014          12         49              0                    49   \n",
       "4       2015           2         28              0                    28   \n",
       "\n",
       "   sqft_living_per_floor  bath_per_bed  \n",
       "0                 1180.0      0.333333  \n",
       "1                 1285.0      0.750000  \n",
       "2                  770.0      0.500000  \n",
       "3                 1960.0      0.750000  \n",
       "4                 1680.0      0.666667  \n",
       "\n",
       "[5 rows x 28 columns]"
      ]
     },
     "execution_count": 23,
     "metadata": {},
     "output_type": "execute_result"
    }
   ],
   "source": [
    "df.head()"
   ]
  },
  {
   "cell_type": "code",
   "execution_count": 24,
   "id": "dbd19809",
   "metadata": {
    "ExecuteTime": {
     "end_time": "2025-09-01T13:59:38.246053Z",
     "start_time": "2025-09-01T13:59:38.236886Z"
    }
   },
   "outputs": [],
   "source": [
    "numerical_pipeline = Pipeline(steps=[\n",
    "    ('imputer', SimpleImputer(strategy='median')),\n",
    "    ('scaler', StandardScaler())\n",
    "])\n"
   ]
  },
  {
   "cell_type": "code",
   "execution_count": 25,
   "id": "13350575",
   "metadata": {
    "ExecuteTime": {
     "end_time": "2025-09-01T13:59:38.251441Z",
     "start_time": "2025-09-01T13:59:38.248177Z"
    }
   },
   "outputs": [],
   "source": [
    "categorical_pipeline=Pipeline(steps=[\n",
    "    ('imputer',SimpleImputer(strategy='most_frequent')),\n",
    "    ('encoder',OneHotEncoder(handle_unknown='ignore'))\n",
    "])"
   ]
  },
  {
   "cell_type": "code",
   "execution_count": 26,
   "id": "a6ef41ba",
   "metadata": {
    "ExecuteTime": {
     "end_time": "2025-09-01T13:59:38.258940Z",
     "start_time": "2025-09-01T13:59:38.253724Z"
    }
   },
   "outputs": [],
   "source": [
    "preprocessor=ColumnTransformer(transformers=[\n",
    "    ('num',numerical_pipeline,numerical_features),\n",
    "    ('cat',categorical_pipeline,categorical_features),\n",
    "    ('pass','passthrough',passthrough_features)\n",
    "])"
   ]
  },
  {
   "cell_type": "code",
   "execution_count": 27,
   "id": "ebd1499b",
   "metadata": {
    "ExecuteTime": {
     "end_time": "2025-09-01T13:59:38.274420Z",
     "start_time": "2025-09-01T13:59:38.264201Z"
    }
   },
   "outputs": [
    {
     "data": {
      "text/plain": [
       "((19687, 27), (19687,))"
      ]
     },
     "execution_count": 27,
     "metadata": {},
     "output_type": "execute_result"
    }
   ],
   "source": [
    "X = df.drop(\"price\", axis=1)\n",
    "y = df[\"price\"]\n",
    "X.shape,y.shape"
   ]
  },
  {
   "cell_type": "code",
   "execution_count": 29,
   "id": "f56e283e",
   "metadata": {
    "ExecuteTime": {
     "end_time": "2025-09-01T14:00:43.646706Z",
     "start_time": "2025-09-01T14:00:43.631775Z"
    }
   },
   "outputs": [],
   "source": [
    "from sklearn.model_selection import train_test_split\n",
    "X_train, X_test, y_train, y_test = train_test_split(X, y, test_size=0.2, random_state=42)"
   ]
  },
  {
   "cell_type": "code",
   "execution_count": 30,
   "id": "3fff3be5",
   "metadata": {
    "ExecuteTime": {
     "end_time": "2025-09-01T14:00:45.489437Z",
     "start_time": "2025-09-01T14:00:45.439780Z"
    }
   },
   "outputs": [],
   "source": [
    "from sklearn.model_selection import train_test_split, RandomizedSearchCV,GridSearchCV\n",
    "from sklearn.ensemble import RandomForestRegressor, GradientBoostingRegressor\n",
    "from xgboost import XGBRegressor"
   ]
  },
  {
   "cell_type": "code",
   "execution_count": 31,
   "id": "bc8734aa",
   "metadata": {
    "ExecuteTime": {
     "end_time": "2025-09-01T14:00:46.822293Z",
     "start_time": "2025-09-01T14:00:46.817723Z"
    }
   },
   "outputs": [],
   "source": [
    "final_pipeline={\n",
    "    'RandomForest': Pipeline(steps=[\n",
    "        ('preprocessor', preprocessor),\n",
    "        ('regressor', RandomForestRegressor(random_state=42))\n",
    "    ]),\n",
    "    'GradientBoosting': Pipeline(steps=[\n",
    "        ('preprocessor', preprocessor),\n",
    "        ('regressor', GradientBoostingRegressor(random_state=42))\n",
    "    ]),\n",
    "    'XGBoost': Pipeline(steps=[\n",
    "        ('preprocessor', preprocessor),\n",
    "        ('regressor', XGBRegressor(objective='reg:squarederror', random_state=42))\n",
    "    ])\n",
    "}"
   ]
  },
  {
   "cell_type": "code",
   "execution_count": 32,
   "id": "472c0b01",
   "metadata": {
    "ExecuteTime": {
     "end_time": "2025-09-01T14:00:48.072768Z",
     "start_time": "2025-09-01T14:00:48.068789Z"
    }
   },
   "outputs": [],
   "source": [
    "param_grids = {\n",
    "    'RandomForest': {\n",
    "        'regressor__n_estimators': [100, 200],\n",
    "        'regressor__max_depth': [10, 20, None]\n",
    "    },\n",
    "    'GradientBoosting': {\n",
    "        'regressor__n_estimators': [100, 200],\n",
    "        'regressor__learning_rate': [0.05, 0.1],\n",
    "        'regressor__max_depth': [3, 5]\n",
    "    },\n",
    "    'XGBoost': {\n",
    "        'regressor__n_estimators': [100, 200],\n",
    "        'regressor__learning_rate': [0.05, 0.1],\n",
    "        'regressor__max_depth': [3, 5]\n",
    "    }\n",
    "}"
   ]
  },
  {
   "cell_type": "code",
   "execution_count": 33,
   "id": "ddc947ce",
   "metadata": {
    "ExecuteTime": {
     "end_time": "2025-09-01T14:36:52.620573Z",
     "start_time": "2025-09-01T14:06:19.439334Z"
    }
   },
   "outputs": [
    {
     "name": "stdout",
     "output_type": "stream",
     "text": [
      "Training RandomForest...\n",
      "RandomForest best CV score: 0.7774887276395677\n",
      "RandomForest best params: {'regressor__max_depth': None, 'regressor__n_estimators': 200}\n",
      "Training GradientBoosting...\n",
      "GradientBoosting best CV score: 0.8305479754929671\n",
      "GradientBoosting best params: {'regressor__learning_rate': 0.1, 'regressor__max_depth': 5, 'regressor__n_estimators': 200}\n",
      "Training XGBoost...\n",
      "XGBoost best CV score: 0.8289977113405863\n",
      "XGBoost best params: {'regressor__learning_rate': 0.1, 'regressor__max_depth': 5, 'regressor__n_estimators': 200}\n"
     ]
    }
   ],
   "source": [
    "best_models = {}\n",
    "\n",
    "for name, pipeline in final_pipeline.items():\n",
    "    print(f\"Training {name}...\")\n",
    "    grid = GridSearchCV(\n",
    "        estimator=pipeline,\n",
    "        param_grid=param_grids[name],\n",
    "        cv=3,\n",
    "        scoring='r2',\n",
    "        n_jobs=-1\n",
    "    )\n",
    "    grid.fit(X_train, y_train)\n",
    "    best_models[name] = grid\n",
    "    print(f\"{name} best CV score: {grid.best_score_}\")\n",
    "    print(f\"{name} best params: {grid.best_params_}\")"
   ]
  },
  {
   "cell_type": "code",
   "execution_count": 34,
   "id": "a748bed9",
   "metadata": {
    "ExecuteTime": {
     "end_time": "2025-09-01T14:43:49.431852Z",
     "start_time": "2025-09-01T14:43:49.426179Z"
    }
   },
   "outputs": [],
   "source": [
    "final_model_name=max(best_models,key=lambda name:best_models[name].best_score_)\n",
    "final_grid=best_models[final_model_name]\n",
    "final_pipeline=final_grid.best_estimator_"
   ]
  },
  {
   "cell_type": "code",
   "execution_count": 35,
   "id": "c039d774",
   "metadata": {
    "ExecuteTime": {
     "end_time": "2025-09-01T14:44:01.565200Z",
     "start_time": "2025-09-01T14:44:01.559328Z"
    }
   },
   "outputs": [
    {
     "name": "stdout",
     "output_type": "stream",
     "text": [
      "Best Model: GradientBoosting\n",
      "Best Params: {'regressor__learning_rate': 0.1, 'regressor__max_depth': 5, 'regressor__n_estimators': 200}\n"
     ]
    }
   ],
   "source": [
    "print(f\"Best Model: {final_model_name}\")\n",
    "print(f\"Best Params: {final_grid.best_params_}\")"
   ]
  },
  {
   "cell_type": "code",
   "execution_count": 36,
   "id": "30f17da0",
   "metadata": {
    "ExecuteTime": {
     "end_time": "2025-09-01T14:44:27.997256Z",
     "start_time": "2025-09-01T14:44:27.991635Z"
    }
   },
   "outputs": [],
   "source": [
    "from sklearn.metrics import r2_score, mean_absolute_error, mean_squared_error"
   ]
  },
  {
   "cell_type": "code",
   "execution_count": 37,
   "id": "9f471a6e",
   "metadata": {
    "ExecuteTime": {
     "end_time": "2025-09-01T14:45:18.694763Z",
     "start_time": "2025-09-01T14:45:18.632013Z"
    }
   },
   "outputs": [],
   "source": [
    "y_pred=final_pipeline.predict(X_test)\n"
   ]
  },
  {
   "cell_type": "code",
   "execution_count": 49,
   "id": "f7eccc89",
   "metadata": {
    "ExecuteTime": {
     "end_time": "2025-09-01T14:54:13.179285Z",
     "start_time": "2025-09-01T14:54:13.167861Z"
    }
   },
   "outputs": [
    {
     "name": "stdout",
     "output_type": "stream",
     "text": [
      "R2 Score: 0.8359502531300569\n",
      "MAE: 60452.392942986844\n",
      "RMSE: 82817.97866443648\n"
     ]
    }
   ],
   "source": [
    "r2 = r2_score(y_test, y_pred)\n",
    "mae = mean_absolute_error(y_test, y_pred)\n",
    "rmse = np.sqrt(mean_squared_error(y_test, y_pred))\n",
    "\n",
    "print(f\"R2 Score: {r2}\")\n",
    "print(f\"MAE: {mae:}\")\n",
    "print(f\"RMSE: {rmse}\")"
   ]
  },
  {
   "cell_type": "code",
   "execution_count": 50,
   "id": "3296545d",
   "metadata": {
    "ExecuteTime": {
     "end_time": "2025-09-01T14:54:16.996262Z",
     "start_time": "2025-09-01T14:54:16.986065Z"
    }
   },
   "outputs": [
    {
     "name": "stdout",
     "output_type": "stream",
     "text": [
      "\n",
      "Performance Comparison Table:\n",
      "                    Model           RMSE\n",
      "0                Baseline  228673.820000\n",
      "1  Tuned GradientBoosting   82817.978664\n",
      "\n",
      "Percentage Improvement in RMSE: 63.78%\n"
     ]
    }
   ],
   "source": [
    "baseline_rmse = 228673.82\n",
    "improvement = ((baseline_rmse - rmse) / baseline_rmse) * 100\n",
    "\n",
    "comparison_df = pd.DataFrame({\n",
    "    \"Model\": [\"Baseline\", \"Tuned \" + final_model_name],\n",
    "    \"RMSE\": [baseline_rmse, rmse]\n",
    "})\n",
    "\n",
    "print(\"\\nPerformance Comparison Table:\")\n",
    "print(comparison_df)\n",
    "print(f\"\\nPercentage Improvement in RMSE: {improvement:.2f}%\")"
   ]
  },
  {
   "cell_type": "code",
   "execution_count": 51,
   "id": "a0683611",
   "metadata": {
    "ExecuteTime": {
     "end_time": "2025-09-01T14:56:20.379614Z",
     "start_time": "2025-09-01T14:56:20.215650Z"
    }
   },
   "outputs": [
    {
     "data": {
      "image/png": "[encoded data removed]",
      "text/plain": [
       "<Figure size 600x400 with 1 Axes>"
      ]
     },
     "metadata": {},
     "output_type": "display_data"
    }
   ],
   "source": [
    "plt.figure(figsize=(6,4))\n",
    "plt.bar(comparison_df[\"Model\"], comparison_df[\"RMSE\"], color=['gray','blue'])\n",
    "plt.ylabel(\"RMSE\")\n",
    "plt.title(\"RMSE Comparison: Baseline vs Tuned Model\")\n",
    "plt.show()"
   ]
  },
  {
   "cell_type": "code",
   "execution_count": 52,
   "id": "94a192d2",
   "metadata": {
    "ExecuteTime": {
     "end_time": "2025-09-01T15:18:40.724999Z",
     "start_time": "2025-09-01T15:18:40.702569Z"
    }
   },
   "outputs": [],
   "source": [
    "if hasattr(final_pipeline['regressor'], 'feature_importances_'):\n",
    "    ohe = final_pipeline['preprocessor'].named_transformers_['cat']['encoder']\n",
    "    ohe_features = ohe.get_feature_names_out(categorical_features)\n",
    "    \n",
    "    feature_names = np.concatenate([\n",
    "        numerical_features,\n",
    "        ohe_features,\n",
    "        passthrough_features\n",
    "    ])\n",
    "    \n",
    "    importances = final_pipeline['regressor'].feature_importances_\n",
    "    feature_importance_df = pd.DataFrame({\n",
    "        \"feature\": feature_names,\n",
    "        \"importance\": importances\n",
    "    }).sort_values(by=\"importance\", ascending=False)"
   ]
  },
  {
   "cell_type": "code",
   "execution_count": 55,
   "id": "7ae2e819",
   "metadata": {
    "ExecuteTime": {
     "end_time": "2025-09-01T15:20:03.200378Z",
     "start_time": "2025-09-01T15:20:02.970554Z"
    }
   },
   "outputs": [
    {
     "data": {
      "image/png": "[encoded data removed]",
      "text/plain": [
       "<Figure size 1000x600 with 1 Axes>"
      ]
     },
     "metadata": {},
     "output_type": "display_data"
    },
    {
     "name": "stdout",
     "output_type": "stream",
     "text": [
      "\n",
      "Top 5 Important Features:\n",
      "          feature  importance\n",
      "0     sqft_living    0.263894\n",
      "94          grade    0.235241\n",
      "2       house_age    0.086227\n",
      "3   sqft_living15    0.037926\n",
      "4      sqft_lot15    0.036720\n"
     ]
    }
   ],
   "source": [
    "plt.figure(figsize=(10,6))\n",
    "top20 = feature_importance_df.head(20)\n",
    "plt.barh(top20[\"feature\"], top20[\"importance\"])\n",
    "plt.gca().invert_yaxis()\n",
    "plt.title(\"Top 20 Feature Importances\")\n",
    "plt.xlabel(\"Importance Score\")\n",
    "plt.show()\n",
    "    \n",
    "print(\"\\nTop 5 Important Features:\")\n",
    "print(feature_importance_df.head(5))"
   ]
  },
  {
   "cell_type": "markdown",
   "id": "bbd23ae2",
   "metadata": {},
   "source": [
    "Top 5 Features – My Interpretation\n",
    "\n",
    "sqft_living – This is clearly the strongest predictor of house prices, which makes total sense because bigger living space usually means higher value.\n",
    "\n",
    "grade – The construction quality/grade shows up near the top. Again, logical: better materials and finishes push up prices significantly.\n",
    "\n",
    "sqft_above – Very similar to sqft_living, but focusing only on the above-ground area. Reinforces the importance of usable space buyers see day-to-day.\n",
    "\n",
    "bathrooms – More bathrooms = more convenience and usually higher price. Not surprising, but good to see the model picks it up strongly.\n",
    "\n",
    "sqft_living15 – This one is interesting. It reflects the average living space of neighboring houses, so it captures the “neighborhood effect.” Prices aren’t just about the house itself but also about the surroundings."
   ]
  },
  {
   "cell_type": "code",
   "execution_count": null,
   "id": "5d938bef",
   "metadata": {},
   "outputs": [],
   "source": []
  }
 ],
 "metadata": {
  "kernelspec": {
   "display_name": "Python 3 (ipykernel)",
   "language": "python",
   "name": "python3"
  },
  "language_info": {
   "codemirror_mode": {
    "name": "ipython",
    "version": 3
   },
   "file_extension": ".py",
   "mimetype": "text/x-python",
   "name": "python",
   "nbconvert_exporter": "python",
   "pygments_lexer": "ipython3",
   "version": "3.13.5"
  },
  "notify_time": "30",
  "toc": {
   "base_numbering": 1,
   "nav_menu": {},
   "number_sections": true,
   "sideBar": true,
   "skip_h1_title": false,
   "title_cell": "Table of Contents",
   "title_sidebar": "Contents",
   "toc_cell": false,
   "toc_position": {},
   "toc_section_display": true,
   "toc_window_display": false
  },
  "varInspector": {
   "cols": {
    "lenName": 16,
    "lenType": 16,
    "lenVar": 40
   },
   "kernels_config": {
    "python": {
     "delete_cmd_postfix": "",
     "delete_cmd_prefix": "del ",
     "library": "var_list.py",
     "varRefreshCmd": "print(var_dic_list())"
    },
    "r": {
     "delete_cmd_postfix": ") ",
     "delete_cmd_prefix": "rm(",
     "library": "var_list.r",
     "varRefreshCmd": "cat(var_dic_list()) "
    }
   },
   "types_to_exclude": [
    "module",
    "function",
    "builtin_function_or_method",
    "instance",
    "_Feature"
   ],
   "window_display": false
  }
 },
 "nbformat": 4,
 "nbformat_minor": 5
}
